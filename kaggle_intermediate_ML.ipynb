{
 "cells": [
  {
   "cell_type": "markdown",
   "metadata": {},
   "source": [
    "**Guojing Wu** *| 2019-07-25*\n",
    "\n",
    "<a href = \"https://www.kaggle.com/learn/intermediate-machine-learning\"> Kaggle: Intermediate Machine Learning </a>\n",
    "\n",
    "# Objectives\n",
    "\n",
    "* missing value\n",
    "\n",
    "* pipelines\n",
    "\n",
    "* CV\n",
    "\n",
    "* XGBoost\n",
    "\n",
    "* leakage"
   ]
  },
  {
   "cell_type": "code",
   "execution_count": null,
   "metadata": {},
   "outputs": [],
   "source": []
  }
 ],
 "metadata": {
  "kernelspec": {
   "display_name": "Python 3",
   "language": "python",
   "name": "python3"
  },
  "language_info": {
   "codemirror_mode": {
    "name": "ipython",
    "version": 3
   },
   "file_extension": ".py",
   "mimetype": "text/x-python",
   "name": "python",
   "nbconvert_exporter": "python",
   "pygments_lexer": "ipython3",
   "version": "3.7.1"
  }
 },
 "nbformat": 4,
 "nbformat_minor": 2
}
