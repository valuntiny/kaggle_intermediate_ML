{
  "nbformat": 4,
  "nbformat_minor": 0,
  "metadata": {
    "kernelspec": {
      "display_name": "Python 3",
      "language": "python",
      "name": "python3"
    },
    "language_info": {
      "codemirror_mode": {
        "name": "ipython",
        "version": 3
      },
      "file_extension": ".py",
      "mimetype": "text/x-python",
      "name": "python",
      "nbconvert_exporter": "python",
      "pygments_lexer": "ipython3",
      "version": "3.7.1"
    },
    "colab": {
      "name": "kaggle_intermediate_ML.ipynb",
      "version": "0.3.2",
      "provenance": []
    }
  },
  "cells": [
    {
      "cell_type": "markdown",
      "metadata": {
        "id": "i-Rm5hLGsx03",
        "colab_type": "text"
      },
      "source": [
        "**Guojing Wu** *| 2019-07-25*\n",
        "\n",
        "<a href = \"https://www.kaggle.com/learn/intermediate-machine-learning\"> Kaggle: Intermediate Machine Learning </a>\n",
        "\n",
        "# Objectives\n",
        "\n",
        "* missing value\n",
        "\n",
        "* pipelines\n",
        "\n",
        "* CV\n",
        "\n",
        "* XGBoost\n",
        "\n",
        "* leakage"
      ]
    },
    {
      "cell_type": "markdown",
      "metadata": {
        "id": "MqqDYGqLyUSE",
        "colab_type": "text"
      },
      "source": [
        "# Missing value\n",
        "\n",
        "## drop columns\n",
        "\n",
        "DataFrame.drop()\n",
        "\n",
        "## imputation\n",
        "\n",
        "Fill in with (mean) value\n",
        "\n",
        "## extension to imputation\n",
        "\n",
        "Sometimes rows with missing value may be unique, so instead of simply doing imputation, we also add a column indicate whether there is missing value or not"
      ]
    },
    {
      "cell_type": "code",
      "metadata": {
        "id": "Q4k6dQYsyn4l",
        "colab_type": "code",
        "colab": {}
      },
      "source": [
        ""
      ],
      "execution_count": 0,
      "outputs": []
    }
  ]
}