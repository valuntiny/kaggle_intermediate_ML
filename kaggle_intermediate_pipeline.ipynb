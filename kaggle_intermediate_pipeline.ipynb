{
  "nbformat": 4,
  "nbformat_minor": 0,
  "metadata": {
    "colab": {
      "name": "kaggle_intermediate_pipeline.ipynb",
      "version": "0.3.2",
      "provenance": [],
      "include_colab_link": true
    },
    "kernelspec": {
      "name": "python3",
      "display_name": "Python 3"
    }
  },
  "cells": [
    {
      "cell_type": "markdown",
      "metadata": {
        "id": "view-in-github",
        "colab_type": "text"
      },
      "source": [
        "<a href=\"https://colab.research.google.com/github/valuntiny/kaggle_intermediate_ML/blob/master/kaggle_intermediate_pipeline.ipynb\" target=\"_parent\"><img src=\"https://colab.research.google.com/assets/colab-badge.svg\" alt=\"Open In Colab\"/></a>"
      ]
    },
    {
      "cell_type": "code",
      "metadata": {
        "id": "3RPd_Tmh_GJC",
        "colab_type": "code",
        "colab": {}
      },
      "source": [
        "from google.colab import drive\n",
        "drive.mount('/content/drive')"
      ],
      "execution_count": 0,
      "outputs": []
    },
    {
      "cell_type": "markdown",
      "metadata": {
        "id": "5aoD7ISk_ADG",
        "colab_type": "text"
      },
      "source": [
        "**Guojing Wu** *| 2019-07-31*\n",
        "\n",
        "<a href = \"https://www.kaggle.com/alexisbcook/pipelines\"> Kaggle: Intermediate Machine Learning </a>\n",
        "\n",
        "# Objectives\n",
        "\n",
        "* missing value\n",
        "\n",
        "* pipelines\n",
        "\n",
        "* CV\n",
        "\n",
        "* XGBoost\n",
        "\n",
        "* leakage"
      ]
    },
    {
      "cell_type": "markdown",
      "metadata": {
        "id": "WpA48nj0_RuO",
        "colab_type": "text"
      },
      "source": [
        "# pipeline"
      ]
    },
    {
      "cell_type": "code",
      "metadata": {
        "id": "RhH5dLRp_acH",
        "colab_type": "code",
        "colab": {}
      },
      "source": [
        ""
      ],
      "execution_count": 0,
      "outputs": []
    }
  ]
}