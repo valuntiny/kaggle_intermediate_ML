{
  "nbformat": 4,
  "nbformat_minor": 0,
  "metadata": {
    "colab": {
      "name": "kaggle_intermediate_categorical.ipynb",
      "version": "0.3.2",
      "provenance": [],
      "include_colab_link": true
    },
    "kernelspec": {
      "name": "python3",
      "display_name": "Python 3"
    }
  },
  "cells": [
    {
      "cell_type": "markdown",
      "metadata": {
        "id": "view-in-github",
        "colab_type": "text"
      },
      "source": [
        "<a href=\"https://colab.research.google.com/github/valuntiny/kaggle_intermediate_ML/blob/master/kaggle_intermediate_categorical.ipynb\" target=\"_parent\"><img src=\"https://colab.research.google.com/assets/colab-badge.svg\" alt=\"Open In Colab\"/></a>"
      ]
    },
    {
      "cell_type": "markdown",
      "metadata": {
        "id": "z37w1alIfg3x",
        "colab_type": "text"
      },
      "source": [
        "**Guojing Wu** *| 2019-07-29*\n",
        "\n",
        "<a href = \"https://www.kaggle.com/learn/intermediate-machine-learning\"> Kaggle: Intermediate Machine Learning </a>\n",
        "\n",
        "# Objectives\n",
        "\n",
        "* missing value\n",
        "\n",
        "* pipelines\n",
        "\n",
        "* CV\n",
        "\n",
        "* XGBoost\n",
        "\n",
        "* leakage"
      ]
    },
    {
      "cell_type": "markdown",
      "metadata": {
        "id": "SM96EFzUf6CL",
        "colab_type": "text"
      },
      "source": [
        "# categorical data\n",
        "\n",
        "## "
      ]
    }
  ]
}