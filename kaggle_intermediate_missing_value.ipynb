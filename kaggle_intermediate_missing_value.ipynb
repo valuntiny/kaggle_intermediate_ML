{
  "nbformat": 4,
  "nbformat_minor": 0,
  "metadata": {
    "kernelspec": {
      "display_name": "Python 3",
      "language": "python",
      "name": "python3"
    },
    "language_info": {
      "codemirror_mode": {
        "name": "ipython",
        "version": 3
      },
      "file_extension": ".py",
      "mimetype": "text/x-python",
      "name": "python",
      "nbconvert_exporter": "python",
      "pygments_lexer": "ipython3",
      "version": "3.7.1"
    },
    "colab": {
      "name": "kaggle_intermediate_ML.ipynb",
      "version": "0.3.2",
      "provenance": [],
      "toc_visible": true
    }
  },
  "cells": [
    {
      "cell_type": "code",
      "metadata": {
        "id": "5EyaolHxv59u",
        "colab_type": "code",
        "outputId": "0fbbc8c6-b74a-4cd2-cd38-6d6bc18bf9cd",
        "colab": {
          "base_uri": "https://localhost:8080/",
          "height": 122
        }
      },
      "source": [
        "from google.colab import drive\n",
        "drive.mount('/content/drive')"
      ],
      "execution_count": 1,
      "outputs": [
        {
          "output_type": "stream",
          "text": [
            "Go to this URL in a browser: https://accounts.google.com/o/oauth2/auth?client_id=947318989803-6bn6qk8qdgf4n4g3pfee6491hc0brc4i.apps.googleusercontent.com&redirect_uri=urn%3Aietf%3Awg%3Aoauth%3A2.0%3Aoob&scope=email%20https%3A%2F%2Fwww.googleapis.com%2Fauth%2Fdocs.test%20https%3A%2F%2Fwww.googleapis.com%2Fauth%2Fdrive%20https%3A%2F%2Fwww.googleapis.com%2Fauth%2Fdrive.photos.readonly%20https%3A%2F%2Fwww.googleapis.com%2Fauth%2Fpeopleapi.readonly&response_type=code\n",
            "\n",
            "Enter your authorization code:\n",
            "··········\n",
            "Mounted at /content/drive\n"
          ],
          "name": "stdout"
        }
      ]
    },
    {
      "cell_type": "markdown",
      "metadata": {
        "id": "i-Rm5hLGsx03",
        "colab_type": "text"
      },
      "source": [
        "**Guojing Wu** *| 2019-07-25*\n",
        "\n",
        "<a href = \"https://www.kaggle.com/learn/intermediate-machine-learning\"> Kaggle: Intermediate Machine Learning </a>\n",
        "\n",
        "# Objectives\n",
        "\n",
        "* missing value\n",
        "\n",
        "* pipelines\n",
        "\n",
        "* CV\n",
        "\n",
        "* XGBoost\n",
        "\n",
        "* leakage"
      ]
    },
    {
      "cell_type": "markdown",
      "metadata": {
        "id": "MqqDYGqLyUSE",
        "colab_type": "text"
      },
      "source": [
        "# Missing value (numerical column only)\n",
        "\n",
        "## drop columns\n",
        "\n",
        "DataFrame.drop()\n",
        "\n",
        "## imputation\n",
        "\n",
        "Fill in with (mean) value\n",
        "\n",
        "## extension to imputation\n",
        "\n",
        "Sometimes rows with missing value may be unique, so instead of simply doing imputation, we also add a column indicate whether there is missing value or not"
      ]
    },
    {
      "cell_type": "code",
      "metadata": {
        "id": "Q4k6dQYsyn4l",
        "colab_type": "code",
        "colab": {}
      },
      "source": [
        "import pandas as pd\n",
        "from sklearn.model_selection import train_test_split\n",
        "\n",
        "# read the data\n",
        "X_full = pd.read_csv('drive/My Drive/self_ML/Intermediate ML/train.csv', index_col='Id')\n",
        "X_test_full = pd.read_csv('drive/My Drive/self_ML/Intermediate ML/test.csv', index_col='Id')"
      ],
      "execution_count": 0,
      "outputs": []
    },
    {
      "cell_type": "code",
      "metadata": {
        "id": "OeaDHWIRHeON",
        "colab_type": "code",
        "colab": {}
      },
      "source": [
        "# remove column without outcome\n",
        "X_full.dropna(axis=0, subset=['SalePrice'], inplace=True)\n",
        "y = X_full.SalePrice\n",
        "X_full.drop(axis=1, labels=['SalePrice'], inplace=True)"
      ],
      "execution_count": 0,
      "outputs": []
    },
    {
      "cell_type": "code",
      "metadata": {
        "id": "J0weQBuFI3UE",
        "colab_type": "code",
        "colab": {}
      },
      "source": [
        "# to make things simple, I'm only gonna use numerical data\n",
        "X = X_full.select_dtypes(exclude=['object'])\n",
        "X_test = X_test_full.select_dtypes(exclude=['object'])"
      ],
      "execution_count": 0,
      "outputs": []
    },
    {
      "cell_type": "code",
      "metadata": {
        "id": "I0hpudilJeqZ",
        "colab_type": "code",
        "colab": {}
      },
      "source": [
        "X_train, X_val, y_train, y_val = train_test_split(X, y, train_size=0.8, test_size=0.2, random_state=0)"
      ],
      "execution_count": 0,
      "outputs": []
    },
    {
      "cell_type": "code",
      "metadata": {
        "id": "hxghtA3EKSgK",
        "colab_type": "code",
        "outputId": "f26eb116-fa94-4459-bbd4-f08e0d47ae6c",
        "colab": {
          "base_uri": "https://localhost:8080/",
          "height": 34
        }
      },
      "source": [
        "X_train.shape"
      ],
      "execution_count": 32,
      "outputs": [
        {
          "output_type": "execute_result",
          "data": {
            "text/plain": [
              "(1168, 36)"
            ]
          },
          "metadata": {
            "tags": []
          },
          "execution_count": 32
        }
      ]
    },
    {
      "cell_type": "code",
      "metadata": {
        "id": "ly2teNTXKz3d",
        "colab_type": "code",
        "outputId": "b67bde5f-eb24-49d7-dd36-92ef48853daa",
        "colab": {
          "base_uri": "https://localhost:8080/",
          "height": 85
        }
      },
      "source": [
        "X_train_missing = X_train.isnull().sum()\n",
        "X_train_missing[X_train_missing > 0]"
      ],
      "execution_count": 33,
      "outputs": [
        {
          "output_type": "execute_result",
          "data": {
            "text/plain": [
              "LotFrontage    212\n",
              "MasVnrArea       6\n",
              "GarageYrBlt     58\n",
              "dtype: int64"
            ]
          },
          "metadata": {
            "tags": []
          },
          "execution_count": 33
        }
      ]
    },
    {
      "cell_type": "markdown",
      "metadata": {
        "id": "-W9iAgYTL2fO",
        "colab_type": "text"
      },
      "source": [
        "Based on the above, we could tell that these three columns have few missing, it would be rediculous to just remove the entire column, so we use imputation."
      ]
    },
    {
      "cell_type": "code",
      "metadata": {
        "id": "QBsDNSamLReR",
        "colab_type": "code",
        "colab": {}
      },
      "source": [
        "from sklearn.ensemble import RandomForestRegressor\n",
        "from sklearn.metrics import mean_absolute_error\n",
        "\n",
        "# just a function use simple RF and return the MAE\n",
        "def score_function(X_train, X_val, y_train, y_val):\n",
        "    model = RandomForestRegressor(n_estimators=100, random_state=0)\n",
        "    model.fit(X_train, y_train)\n",
        "    preds = model.predict(X_val)\n",
        "    return mean_absolute_error(preds, y_val)"
      ],
      "execution_count": 0,
      "outputs": []
    },
    {
      "cell_type": "code",
      "metadata": {
        "id": "g8aRX2qM9MpI",
        "colab_type": "code",
        "outputId": "0fa3c977-53d8-453e-f597-53477bfc0e0a",
        "colab": {
          "base_uri": "https://localhost:8080/",
          "height": 34
        }
      },
      "source": [
        "# simply just drop columns\n",
        "cols_missing = [cols for cols in X_train.columns\n",
        "                if X_train[cols].isnull().any()]\n",
        "reduced_X_train = X_train.drop(cols_missing, axis=1)\n",
        "reduced_X_val = X_val.drop(cols_missing, axis=1)\n",
        "\n",
        "score_function(reduced_X_train, reduced_X_val, y_train, y_val)"
      ],
      "execution_count": 35,
      "outputs": [
        {
          "output_type": "execute_result",
          "data": {
            "text/plain": [
              "17837.82570776256"
            ]
          },
          "metadata": {
            "tags": []
          },
          "execution_count": 35
        }
      ]
    },
    {
      "cell_type": "code",
      "metadata": {
        "id": "gRfPCZ9xBXr7",
        "colab_type": "code",
        "outputId": "30cf0c5f-65af-4446-c56c-4cc97c50393c",
        "colab": {
          "base_uri": "https://localhost:8080/",
          "height": 34
        }
      },
      "source": [
        "# imputation\n",
        "from sklearn.impute import SimpleImputer\n",
        "# mean here performs worse than drop, so use median\n",
        "my_imputer = SimpleImputer(strategy='median')\n",
        "# fit and transform\n",
        "imputed_X_train = pd.DataFrame(my_imputer.fit_transform(X_train))\n",
        "# just transform\n",
        "imputed_X_val = pd.DataFrame(my_imputer.transform(X_val))\n",
        "# add column name back\n",
        "imputed_X_train.columns = X_train.columns\n",
        "imputed_X_val.columns = X_val.columns\n",
        "\n",
        "score_function(imputed_X_train, imputed_X_val, y_train, y_val)"
      ],
      "execution_count": 36,
      "outputs": [
        {
          "output_type": "execute_result",
          "data": {
            "text/plain": [
              "17791.59899543379"
            ]
          },
          "metadata": {
            "tags": []
          },
          "execution_count": 36
        }
      ]
    },
    {
      "cell_type": "code",
      "metadata": {
        "id": "MSKULGHAC5wn",
        "colab_type": "code",
        "outputId": "a5645367-acc4-42a5-dd02-44f890f5fe76",
        "colab": {
          "base_uri": "https://localhost:8080/",
          "height": 34
        }
      },
      "source": [
        "# some other imputation\n",
        "final_imputer = SimpleImputer(strategy='median', add_indicator=True)\n",
        "final_X_train = pd.DataFrame(final_imputer.fit_transform(X_train))\n",
        "final_X_val = pd.DataFrame(final_imputer.transform(X_val))\n",
        "final_cols_name = list(X_train.columns) + [names + '_ind' for names in cols_missing]\n",
        "final_X_train.columns = final_cols_name\n",
        "final_X_val.columns = final_cols_name\n",
        "score_function(final_X_train, final_X_val, y_train, y_val)"
      ],
      "execution_count": 37,
      "outputs": [
        {
          "output_type": "execute_result",
          "data": {
            "text/plain": [
              "18063.910194063923"
            ]
          },
          "metadata": {
            "tags": []
          },
          "execution_count": 37
        }
      ]
    },
    {
      "cell_type": "code",
      "metadata": {
        "id": "PvGyMRbIOBoN",
        "colab_type": "code",
        "colab": {}
      },
      "source": [
        "# get a final version for submit\n",
        "final_model = RandomForestRegressor(n_estimators=100, random_state=0)\n",
        "final_model.fit(imputed_X_train, y_train)\n",
        "final_X_test = pd.DataFrame(my_imputer.transform(X_test))\n",
        "final_X_test.columns = X_test.columns\n",
        "preds_test = final_model.predict(final_X_test)"
      ],
      "execution_count": 0,
      "outputs": []
    },
    {
      "cell_type": "code",
      "metadata": {
        "id": "kfcdIVGbQvd4",
        "colab_type": "code",
        "colab": {}
      },
      "source": [
        "output = pd.DataFrame({'Id': X_test.index, 'SalePrice': preds_test})\n",
        "output.to_csv('drive/My Drive/self_ML/Intermediate ML/submission.csv', index=False)"
      ],
      "execution_count": 0,
      "outputs": []
    },
    {
      "cell_type": "markdown",
      "metadata": {
        "id": "348DMwZ0braz",
        "colab_type": "text"
      },
      "source": [
        "# categorical columns\n",
        "\n",
        "## drop column"
      ]
    },
    {
      "cell_type": "code",
      "metadata": {
        "id": "9Xfu3JWIcanl",
        "colab_type": "code",
        "colab": {}
      },
      "source": [
        "# Read the data\n",
        "X = pd.read_csv('drive/My Drive/self_ML/Intermediate ML/train.csv', index_col='Id') \n",
        "X_test = pd.read_csv('drive/My Drive/self_ML/Intermediate ML/test.csv', index_col='Id')\n",
        "\n",
        "# Remove rows with missing target, separate target from predictors\n",
        "X.dropna(axis=0, subset=['SalePrice'], inplace=True)\n",
        "y = X.SalePrice\n",
        "X.drop(['SalePrice'], axis=1, inplace=True)\n",
        "\n",
        "# To keep things simple, we'll drop columns with missing values\n",
        "cols_with_missing = [col for col in X.columns if X[col].isnull().any()] \n",
        "X.drop(cols_with_missing, axis=1, inplace=True)\n",
        "X_test.drop(cols_with_missing, axis=1, inplace=True)\n",
        "\n",
        "# Break off validation set from training data\n",
        "X_train, X_valid, y_train, y_valid = train_test_split(X, y,\n",
        "                                                      train_size=0.8, test_size=0.2,\n",
        "                                                      random_state=0)"
      ],
      "execution_count": 0,
      "outputs": []
    },
    {
      "cell_type": "code",
      "metadata": {
        "id": "q-L_2YKvdit7",
        "colab_type": "code",
        "colab": {
          "base_uri": "https://localhost:8080/",
          "height": 34
        },
        "outputId": "44d1f174-f489-4725-f3e6-760cde15e64c"
      },
      "source": [
        "# first approach, drop column with categorical data\n",
        "drop_X_train = X_train.select_dtypes(exclude=['object'])\n",
        "drop_X_valid = X_valid.select_dtypes(exclude=['object'])\n",
        "score_function(drop_X_train, drop_X_valid, y_train, y_valid)"
      ],
      "execution_count": 41,
      "outputs": [
        {
          "output_type": "execute_result",
          "data": {
            "text/plain": [
              "17837.82570776256"
            ]
          },
          "metadata": {
            "tags": []
          },
          "execution_count": 41
        }
      ]
    },
    {
      "cell_type": "markdown",
      "metadata": {
        "id": "_FiaUfv4eOjj",
        "colab_type": "text"
      },
      "source": [
        "## label encoding\n",
        "\n",
        "But before we do anything, first look at the column 'Condition2'. We could see that on train and valid dataset, 'Condition2' have different level. Simple approach is to remove this column (more complicate solution out there)."
      ]
    },
    {
      "cell_type": "code",
      "metadata": {
        "id": "Sf8dMKfSemIM",
        "colab_type": "code",
        "colab": {
          "base_uri": "https://localhost:8080/",
          "height": 34
        },
        "outputId": "a63aa322-7d46-4968-f4ab-c44b22ac3890"
      },
      "source": [
        "X_train['Condition2'].unique()"
      ],
      "execution_count": 42,
      "outputs": [
        {
          "output_type": "execute_result",
          "data": {
            "text/plain": [
              "array(['Norm', 'PosA', 'Feedr', 'PosN', 'Artery', 'RRAe'], dtype=object)"
            ]
          },
          "metadata": {
            "tags": []
          },
          "execution_count": 42
        }
      ]
    },
    {
      "cell_type": "code",
      "metadata": {
        "id": "HkibJwYEetHe",
        "colab_type": "code",
        "colab": {
          "base_uri": "https://localhost:8080/",
          "height": 34
        },
        "outputId": "1643b9a7-9a4b-45be-ed62-1995cd148e46"
      },
      "source": [
        "X_valid['Condition2'].unique()"
      ],
      "execution_count": 43,
      "outputs": [
        {
          "output_type": "execute_result",
          "data": {
            "text/plain": [
              "array(['Norm', 'RRAn', 'RRNn', 'Artery', 'Feedr', 'PosN'], dtype=object)"
            ]
          },
          "metadata": {
            "tags": []
          },
          "execution_count": 43
        }
      ]
    },
    {
      "cell_type": "code",
      "metadata": {
        "id": "cQM8asdoewBD",
        "colab_type": "code",
        "colab": {
          "base_uri": "https://localhost:8080/",
          "height": 88
        },
        "outputId": "65a421a0-3481-41d7-ed7b-58bda0f171a8"
      },
      "source": [
        "# find the bad column\n",
        "object_cols = [cols for cols in X_train.columns\n",
        "               if X_train[cols].dtype == 'object']\n",
        "bad_label_cols = [cols for cols in object_cols\n",
        "            if set(X_train[cols]) != set(X_valid[cols])]\n",
        "good_label_cols = [cols for cols in object_cols\n",
        "            if set(X_train[cols]) == set(X_valid[cols])]\n",
        "\n",
        "print('good:', good_label_cols)\n",
        "print('\\n bad:', bad_label_cols)"
      ],
      "execution_count": 46,
      "outputs": [
        {
          "output_type": "stream",
          "text": [
            "good: ['MSZoning', 'Street', 'LotShape', 'LandContour', 'LotConfig', 'BldgType', 'HouseStyle', 'ExterQual', 'CentralAir', 'KitchenQual', 'PavedDrive', 'SaleCondition']\n",
            "\n",
            " bad: ['Utilities', 'LandSlope', 'Neighborhood', 'Condition1', 'Condition2', 'RoofStyle', 'RoofMatl', 'Exterior1st', 'Exterior2nd', 'ExterCond', 'Foundation', 'Heating', 'HeatingQC', 'Functional', 'SaleType']\n"
          ],
          "name": "stdout"
        }
      ]
    },
    {
      "cell_type": "code",
      "metadata": {
        "id": "-wUQ-QWpg9nR",
        "colab_type": "code",
        "colab": {
          "base_uri": "https://localhost:8080/",
          "height": 34
        },
        "outputId": "9b60589b-6afb-481e-9e76-f994204a3338"
      },
      "source": [
        "from sklearn.preprocessing import LabelEncoder\n",
        "\n",
        "# remove the bad column\n",
        "label_X_train = X_train.drop(bad_label_cols, axis=1)\n",
        "label_X_valid = X_valid.drop(bad_label_cols, axis=1)\n",
        "\n",
        "# label-encoding the good column\n",
        "label_encoder = LabelEncoder()\n",
        "for cols in good_label_cols:\n",
        "    label_X_train[cols] = label_encoder.fit_transform(X_train[cols])\n",
        "    label_X_valid[cols] = label_encoder.transform(X_valid[cols])\n",
        "\n",
        "score_function(label_X_train, label_X_valid, y_train, y_valid)"
      ],
      "execution_count": 47,
      "outputs": [
        {
          "output_type": "execute_result",
          "data": {
            "text/plain": [
              "17575.291883561644"
            ]
          },
          "metadata": {
            "tags": []
          },
          "execution_count": 47
        }
      ]
    },
    {
      "cell_type": "code",
      "metadata": {
        "id": "SzJU2sZ4i4dK",
        "colab_type": "code",
        "colab": {}
      },
      "source": [
        ""
      ],
      "execution_count": 0,
      "outputs": []
    }
  ]
}