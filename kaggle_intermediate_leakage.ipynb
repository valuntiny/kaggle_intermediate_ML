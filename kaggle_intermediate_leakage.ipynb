{
  "nbformat": 4,
  "nbformat_minor": 0,
  "metadata": {
    "colab": {
      "name": "kaggle_intermediate_leakage.ipynb",
      "version": "0.3.2",
      "provenance": [],
      "include_colab_link": true
    },
    "kernelspec": {
      "name": "python3",
      "display_name": "Python 3"
    }
  },
  "cells": [
    {
      "cell_type": "markdown",
      "metadata": {
        "id": "view-in-github",
        "colab_type": "text"
      },
      "source": [
        "<a href=\"https://colab.research.google.com/github/valuntiny/kaggle_intermediate_ML/blob/master/kaggle_intermediate_leakage.ipynb\" target=\"_parent\"><img src=\"https://colab.research.google.com/assets/colab-badge.svg\" alt=\"Open In Colab\"/></a>"
      ]
    },
    {
      "cell_type": "markdown",
      "metadata": {
        "id": "E8DBsXzhdGx4",
        "colab_type": "text"
      },
      "source": [
        "**Guojing Wu** *| 2019-08-02*\n",
        "\n",
        "<a href = \"https://www.kaggle.com/alexisbcook/data-leakage\"> Kaggle: Intermediate Machine Learning </a>\n",
        "\n",
        "# Objectives\n",
        "\n",
        "* missing value\n",
        "\n",
        "* pipelines\n",
        "\n",
        "* CV\n",
        "\n",
        "* XGBoost\n",
        "\n",
        "* leakage"
      ]
    },
    {
      "cell_type": "markdown",
      "metadata": {
        "id": "pDKHZO2Podd-",
        "colab_type": "text"
      },
      "source": [
        "# Data Leakage\n",
        "\n",
        "* Target leakage\n",
        "\n",
        "&nbsp;&nbsp;&nbsp;&nbsp;&nbsp;&nbsp;&nbsp;&nbsp;\n",
        "Occurs when predictors include data that will not be available at the time you make predictions\n",
        "\n",
        "* Train-Test Contamination\n",
        "\n",
        "&nbsp;&nbsp;&nbsp;&nbsp;&nbsp;&nbsp;&nbsp;&nbsp;\n",
        "Occurs when you aren't careful to distinguish training data from validation data.\n",
        "\n",
        "&nbsp;&nbsp;&nbsp;&nbsp;&nbsp;&nbsp;&nbsp;&nbsp;\n",
        "Recall that validation is meant to be a measure of how the model does on data that it hasn't considered before. You can corrupt this process in subtle ways if the validation data affects the preprocessing behavior. This is sometimes called train-test contamination.\n",
        "\n"
      ]
    },
    {
      "cell_type": "code",
      "metadata": {
        "id": "oFY8wKveoom4",
        "colab_type": "code",
        "colab": {}
      },
      "source": [
        ""
      ],
      "execution_count": 0,
      "outputs": []
    }
  ]
}